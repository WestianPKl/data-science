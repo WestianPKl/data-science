{
  "nbformat": 4,
  "nbformat_minor": 0,
  "metadata": {
    "colab": {
      "provenance": [],
      "authorship_tag": "ABX9TyOBpe8CgaTl5iwze7I4zip9",
      "include_colab_link": true
    },
    "kernelspec": {
      "name": "python3",
      "display_name": "Python 3"
    },
    "language_info": {
      "name": "python"
    }
  },
  "cells": [
    {
      "cell_type": "markdown",
      "metadata": {
        "id": "view-in-github",
        "colab_type": "text"
      },
      "source": [
        "<a href=\"https://colab.research.google.com/github/WestianPKl/data-science/blob/main/303_statystyka/01_p_stwo_statystyka.ipynb\" target=\"_parent\"><img src=\"https://colab.research.google.com/assets/colab-badge.svg\" alt=\"Open In Colab\"/></a>"
      ]
    },
    {
      "cell_type": "code",
      "execution_count": 1,
      "metadata": {
        "colab": {
          "base_uri": "https://localhost:8080/"
        },
        "id": "_Q8s6RS-kDJT",
        "outputId": "268ce499-6272-4f84-8492-1738be8fe51e"
      },
      "outputs": [
        {
          "output_type": "stream",
          "name": "stdout",
          "text": [
            "[3.  4.5 5.  4.5 3. ]\n"
          ]
        }
      ],
      "source": [
        "import numpy as np\n",
        "\n",
        "X = np.array([3, 4.5, 5, 4.5, 3])\n",
        "print(X)"
      ]
    },
    {
      "cell_type": "code",
      "source": [
        "X = np.array([185.0, 179.5, 168.0, 192.0, 185.5])\n",
        "print(X)"
      ],
      "metadata": {
        "colab": {
          "base_uri": "https://localhost:8080/"
        },
        "id": "aXXgFXAXkLqK",
        "outputId": "4c7e435f-eb9b-456d-c2d7-4ad779b7bb28"
      },
      "execution_count": 2,
      "outputs": [
        {
          "output_type": "stream",
          "name": "stdout",
          "text": [
            "[185.  179.5 168.  192.  185.5]\n"
          ]
        }
      ]
    },
    {
      "cell_type": "code",
      "source": [
        "X = np.array([3, 4.5, 5, 4.5, 3])\n",
        "X.mean()"
      ],
      "metadata": {
        "colab": {
          "base_uri": "https://localhost:8080/"
        },
        "id": "cb0mHoo2kwFB",
        "outputId": "ad012f61-f8ab-4a1b-b191-7c68dbe3ed1a"
      },
      "execution_count": 3,
      "outputs": [
        {
          "output_type": "execute_result",
          "data": {
            "text/plain": [
              "4.0"
            ]
          },
          "metadata": {},
          "execution_count": 3
        }
      ]
    },
    {
      "cell_type": "code",
      "source": [
        "np.median(X)"
      ],
      "metadata": {
        "colab": {
          "base_uri": "https://localhost:8080/"
        },
        "id": "v5cT2yjLk45I",
        "outputId": "d8871846-7c91-4133-dd7c-ab90a98c0ad6"
      },
      "execution_count": 4,
      "outputs": [
        {
          "output_type": "execute_result",
          "data": {
            "text/plain": [
              "4.5"
            ]
          },
          "metadata": {},
          "execution_count": 4
        }
      ]
    },
    {
      "cell_type": "code",
      "source": [
        "np.median(np.array([5, 4.5, 5, 3]))"
      ],
      "metadata": {
        "colab": {
          "base_uri": "https://localhost:8080/"
        },
        "id": "HcFhf_u4lXK3",
        "outputId": "12f743d6-5146-42ad-e3b8-9fb019a5ef77"
      },
      "execution_count": 6,
      "outputs": [
        {
          "output_type": "execute_result",
          "data": {
            "text/plain": [
              "4.75"
            ]
          },
          "metadata": {},
          "execution_count": 6
        }
      ]
    },
    {
      "cell_type": "code",
      "source": [
        "from scipy import stats"
      ],
      "metadata": {
        "id": "SlEcVawklclI"
      },
      "execution_count": 8,
      "outputs": []
    },
    {
      "cell_type": "code",
      "source": [
        "stats.mode(X)"
      ],
      "metadata": {
        "colab": {
          "base_uri": "https://localhost:8080/"
        },
        "id": "8gmcFjhLlllB",
        "outputId": "bcf1e18e-8f6a-4a61-c208-6d502a1f64f8"
      },
      "execution_count": 9,
      "outputs": [
        {
          "output_type": "execute_result",
          "data": {
            "text/plain": [
              "ModeResult(mode=3.0, count=2)"
            ]
          },
          "metadata": {},
          "execution_count": 9
        }
      ]
    },
    {
      "cell_type": "code",
      "source": [
        "X = [3.5, 4.0, 4.0]\n",
        "Y = [2.0, 4.0, 5.0]\n",
        "X_mean = np.mean(X)\n",
        "Y_mean = np.mean(Y)\n",
        "\n",
        "print(f'{X_mean:.4f}')\n",
        "print(f'{Y_mean:.4f}')"
      ],
      "metadata": {
        "colab": {
          "base_uri": "https://localhost:8080/"
        },
        "id": "-_mmGphYlyA9",
        "outputId": "c77daa22-d798-4ee5-c68b-fba3493f91a6"
      },
      "execution_count": 18,
      "outputs": [
        {
          "output_type": "stream",
          "name": "stdout",
          "text": [
            "3.8333\n",
            "3.6667\n"
          ]
        }
      ]
    },
    {
      "cell_type": "code",
      "source": [
        "#Błąd średni\n",
        "b_X = 1/ len(X) * (abs(X - X_mean).sum())\n",
        "b_Y = 1/ len(X) * (abs(Y - Y_mean).sum())\n",
        "print(f'{b_X:.4f}')\n",
        "print(f'{b_Y:.4f}')"
      ],
      "metadata": {
        "colab": {
          "base_uri": "https://localhost:8080/"
        },
        "id": "RQQAiMIqmJoB",
        "outputId": "3dde4bea-e85a-4f1d-e71b-be1fe4792c55"
      },
      "execution_count": 19,
      "outputs": [
        {
          "output_type": "stream",
          "name": "stdout",
          "text": [
            "0.2222\n",
            "1.1111\n"
          ]
        }
      ]
    },
    {
      "cell_type": "code",
      "source": [
        "#Wariancja\n",
        "var_X = 1/ len(X) * (((X - X_mean)**2).sum())\n",
        "var_Y = 1/ len(X) * (((Y - Y_mean)**2).sum())\n",
        "print(f'{var_X:.4f}')\n",
        "print(f'{var_Y:.4f}')"
      ],
      "metadata": {
        "colab": {
          "base_uri": "https://localhost:8080/"
        },
        "id": "6pvxVsb2oWKc",
        "outputId": "54eea7b3-ed28-4393-e414-c41101400672"
      },
      "execution_count": 25,
      "outputs": [
        {
          "output_type": "stream",
          "name": "stdout",
          "text": [
            "0.0556\n",
            "1.5556\n"
          ]
        }
      ]
    },
    {
      "cell_type": "code",
      "source": [
        "#Odchylenie standardowe\n",
        "std_X = np.sqrt(var_X)\n",
        "std_Y = np.sqrt(var_Y)\n",
        "print(f'{std_X:.4f}')\n",
        "print(f'{std_Y:.4f}')"
      ],
      "metadata": {
        "colab": {
          "base_uri": "https://localhost:8080/"
        },
        "id": "aHPjbnlupbIK",
        "outputId": "7e0c5f24-623e-45d1-ed4d-026ce1babdf6"
      },
      "execution_count": 26,
      "outputs": [
        {
          "output_type": "stream",
          "name": "stdout",
          "text": [
            "0.2357\n",
            "1.2472\n"
          ]
        }
      ]
    },
    {
      "cell_type": "code",
      "source": [
        "print(np.std(X))\n",
        "print(np.std(Y))"
      ],
      "metadata": {
        "colab": {
          "base_uri": "https://localhost:8080/"
        },
        "id": "vbdpUztOp-Xx",
        "outputId": "7ebe530f-55a7-4ffc-ce83-76d39c8c5cac"
      },
      "execution_count": 27,
      "outputs": [
        {
          "output_type": "stream",
          "name": "stdout",
          "text": [
            "0.23570226039551584\n",
            "1.247219128924647\n"
          ]
        }
      ]
    },
    {
      "cell_type": "code",
      "source": [],
      "metadata": {
        "id": "SKY_sIN7qS6s"
      },
      "execution_count": null,
      "outputs": []
    }
  ]
}